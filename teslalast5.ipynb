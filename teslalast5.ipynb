{
 "cells": [
  {
   "cell_type": "code",
   "execution_count": 3,
   "id": "d27deac7-31b0-4631-9d69-dadaeebec1d7",
   "metadata": {},
   "outputs": [
    {
     "name": "stdout",
     "output_type": "stream",
     "text": [
      "          Date  Revenue\n",
      "58  2010-09-30     31.0\n",
      "59  2010-06-30     28.0\n",
      "60  2010-03-31     21.0\n",
      "62  2009-09-30     46.0\n",
      "63  2009-06-30     27.0\n"
     ]
    },
    {
     "name": "stderr",
     "output_type": "stream",
     "text": [
      "C:\\Users\\prash\\AppData\\Local\\Temp\\ipykernel_5048\\4273528527.py:27: FutureWarning: Passing literal html to 'read_html' is deprecated and will be removed in a future version. To read from a literal string, wrap it in a 'StringIO' object.\n",
      "  df = pd.read_html(str(tesla_revenue_table))[0]\n"
     ]
    }
   ],
   "source": [
    "import requests\n",
    "from bs4 import BeautifulSoup\n",
    "import pandas as pd\n",
    "\n",
    "# Get the page with headers\n",
    "url = \"https://www.macrotrends.net/stocks/charts/TSLA/tesla/revenue\"\n",
    "headers = {\n",
    "    \"User-Agent\": \"Mozilla/5.0\"\n",
    "}\n",
    "response = requests.get(url, headers=headers)\n",
    "soup = BeautifulSoup(response.text, \"html.parser\")\n",
    "\n",
    "# Locate all tables\n",
    "tables = soup.find_all(\"table\")\n",
    "\n",
    "# Loop through tables to find the one with 'Tesla Quarterly Revenue'\n",
    "tesla_revenue_table = None\n",
    "for table in tables:\n",
    "    if \"Tesla Quarterly Revenue\" in table.text:\n",
    "        tesla_revenue_table = table\n",
    "        break\n",
    "\n",
    "if tesla_revenue_table is None:\n",
    "    raise ValueError(\"Tesla revenue table not found.\")\n",
    "\n",
    "# Read table into DataFrame\n",
    "df = pd.read_html(str(tesla_revenue_table))[0]\n",
    "\n",
    "# Clean and rename columns\n",
    "df.columns = [\"Date\", \"Revenue\"]\n",
    "df.dropna(inplace=True)\n",
    "df[\"Revenue\"] = df[\"Revenue\"].replace({r'\\$': '', ',': ''}, regex=True).astype(float)\n",
    "\n",
    "# Show last 5 rows\n",
    "print(df.tail())"
   ]
  }
 ],
 "metadata": {
  "kernelspec": {
   "display_name": "Python 3 (ipykernel)",
   "language": "python",
   "name": "python3"
  },
  "language_info": {
   "codemirror_mode": {
    "name": "ipython",
    "version": 3
   },
   "file_extension": ".py",
   "mimetype": "text/x-python",
   "name": "python",
   "nbconvert_exporter": "python",
   "pygments_lexer": "ipython3",
   "version": "3.12.7"
  }
 },
 "nbformat": 4,
 "nbformat_minor": 5
}
