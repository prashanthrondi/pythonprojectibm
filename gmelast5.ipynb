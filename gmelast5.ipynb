{
 "cells": [
  {
   "cell_type": "code",
   "execution_count": 1,
   "id": "8c8ff12e-d96d-47db-a8ac-50847561db33",
   "metadata": {},
   "outputs": [
    {
     "name": "stdout",
     "output_type": "stream",
     "text": [
      "          Date  Revenue\n",
      "61  2010-01-31   3524.0\n",
      "62  2009-10-31   1835.0\n",
      "63  2009-07-31   1739.0\n",
      "64  2009-04-30   1981.0\n",
      "65  2009-01-31   3492.0\n"
     ]
    },
    {
     "name": "stderr",
     "output_type": "stream",
     "text": [
      "C:\\Users\\prash\\AppData\\Local\\Temp\\ipykernel_11664\\2124542540.py:27: FutureWarning: Passing literal html to 'read_html' is deprecated and will be removed in a future version. To read from a literal string, wrap it in a 'StringIO' object.\n",
      "  gme_revenue = pd.read_html(str(gme_revenue_table))[0]\n"
     ]
    }
   ],
   "source": [
    "import requests\n",
    "from bs4 import BeautifulSoup\n",
    "import pandas as pd\n",
    "\n",
    "# Step 1: Define the URL and headers\n",
    "url = \"https://www.macrotrends.net/stocks/charts/GME/gamestop/revenue\"\n",
    "headers = {\n",
    "    \"User-Agent\": \"Mozilla/5.0\"\n",
    "}\n",
    "\n",
    "# Step 2: Get and parse the page\n",
    "response = requests.get(url, headers=headers)\n",
    "soup = BeautifulSoup(response.text, \"html.parser\")\n",
    "\n",
    "# Step 3: Find the revenue table\n",
    "tables = soup.find_all(\"table\")\n",
    "gme_revenue_table = None\n",
    "for table in tables:\n",
    "    if \"GameStop Quarterly Revenue\" in table.text:\n",
    "        gme_revenue_table = table\n",
    "        break\n",
    "\n",
    "if gme_revenue_table is None:\n",
    "    raise ValueError(\"GameStop revenue table not found.\")\n",
    "\n",
    "# Step 4: Read and clean the table\n",
    "gme_revenue = pd.read_html(str(gme_revenue_table))[0]\n",
    "gme_revenue.columns = [\"Date\", \"Revenue\"]\n",
    "gme_revenue.dropna(inplace=True)\n",
    "gme_revenue[\"Revenue\"] = gme_revenue[\"Revenue\"].replace({r'\\$': '', ',': ''}, regex=True).astype(float)\n",
    "\n",
    "# Step 5: Display last 5 rows\n",
    "print(gme_revenue.tail())"
   ]
  }
 ],
 "metadata": {
  "kernelspec": {
   "display_name": "Python 3 (ipykernel)",
   "language": "python",
   "name": "python3"
  },
  "language_info": {
   "codemirror_mode": {
    "name": "ipython",
    "version": 3
   },
   "file_extension": ".py",
   "mimetype": "text/x-python",
   "name": "python",
   "nbconvert_exporter": "python",
   "pygments_lexer": "ipython3",
   "version": "3.12.7"
  }
 },
 "nbformat": 4,
 "nbformat_minor": 5
}
