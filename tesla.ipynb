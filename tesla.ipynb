{
 "cells": [
  {
   "cell_type": "code",
   "execution_count": 1,
   "id": "b7f022a3-1a3e-45cc-90fd-8a57410209bc",
   "metadata": {},
   "outputs": [
    {
     "name": "stderr",
     "output_type": "stream",
     "text": [
      "C:\\Users\\prash\\AppData\\Local\\Temp\\ipykernel_12104\\3636982298.py:4: FutureWarning: YF.download() has changed argument auto_adjust default to True\n",
      "  tesla_data = yf.download(\"TSLA\")\n",
      "[*********************100%***********************]  1 of 1 completed"
     ]
    },
    {
     "name": "stdout",
     "output_type": "stream",
     "text": [
      "Price        Date       Close        High         Low        Open     Volume\n",
      "Ticker                   TSLA        TSLA        TSLA        TSLA       TSLA\n",
      "0      2025-06-12  319.109985  332.559998  316.859985  323.079987  105127500\n",
      "1      2025-06-13  325.309998  332.989990  313.299988  313.970001  128964300\n",
      "2      2025-06-16  329.130005  332.049988  326.410004  331.290009   83925900\n",
      "3      2025-06-17  316.350006  327.260010  314.739990  326.089996   88282700\n",
      "4      2025-06-18  322.049988  329.320007  315.450012  317.309998   95137700\n"
     ]
    },
    {
     "name": "stderr",
     "output_type": "stream",
     "text": [
      "\n"
     ]
    }
   ],
   "source": [
    "import yfinance as yf\n",
    "\n",
    "# Download all available Tesla stock data\n",
    "tesla_data = yf.download(\"TSLA\")\n",
    "\n",
    "# Reset the index\n",
    "tesla_data.reset_index(inplace=True)\n",
    "\n",
    "# Display the first five rows\n",
    "print(tesla_data.head())"
   ]
  },
  {
   "cell_type": "code",
   "execution_count": null,
   "id": "7dff7523-5dd4-4f63-882d-c9a1aaecd41f",
   "metadata": {},
   "outputs": [],
   "source": []
  }
 ],
 "metadata": {
  "kernelspec": {
   "display_name": "Python 3 (ipykernel)",
   "language": "python",
   "name": "python3"
  },
  "language_info": {
   "codemirror_mode": {
    "name": "ipython",
    "version": 3
   },
   "file_extension": ".py",
   "mimetype": "text/x-python",
   "name": "python",
   "nbconvert_exporter": "python",
   "pygments_lexer": "ipython3",
   "version": "3.12.7"
  }
 },
 "nbformat": 4,
 "nbformat_minor": 5
}
